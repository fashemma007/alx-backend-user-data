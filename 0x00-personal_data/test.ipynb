{
 "cells": [
  {
   "attachments": {},
   "cell_type": "markdown",
   "metadata": {},
   "source": [
    "## Task"
   ]
  },
  {
   "attachments": {},
   "cell_type": "markdown",
   "metadata": {},
   "source": [
    "### 0. Regex-ing"
   ]
  },
  {
   "cell_type": "code",
   "execution_count": 3,
   "metadata": {},
   "outputs": [],
   "source": [
    "fields = [\"password\", \"date_of_birth\"]\n",
    "messages = [\"name=egg;email=eggmin@eggsample.com;password=eggcellent;date_of_birth=12/12/1986;\", \"name=bob;email=bob@dylan.com;password=bobbycool;date_of_birth=03/04/1993;\"]"
   ]
  },
  {
   "cell_type": "code",
   "execution_count": null,
   "metadata": {},
   "outputs": [],
   "source": [
    "# split the message using ;\n",
    "# create a dict of k:v\n",
    "# hide the data and convert back"
   ]
  },
  {
   "cell_type": "code",
   "execution_count": 63,
   "metadata": {},
   "outputs": [],
   "source": [
    "def to_dict(msg) -> dict:\n",
    "    return_dict = {}\n",
    "    for item in msg:\n",
    "        try: \n",
    "            # [return_dict.update(item) for item in msg]\n",
    "                item = item.split(\"=\")\n",
    "                return_dict[item[0]] = item[1]\n",
    "        except Exception:\n",
    "            pass\n",
    "    return return_dict"
   ]
  },
  {
   "cell_type": "code",
   "execution_count": 64,
   "metadata": {},
   "outputs": [
    {
     "data": {
      "text/plain": [
       "{'name': 'egg',\n",
       " 'email': 'eggmin@eggsample.com',\n",
       " 'password': 'eggcellent',\n",
       " 'date_of_birth': '12/12/1986'}"
      ]
     },
     "execution_count": 64,
     "metadata": {},
     "output_type": "execute_result"
    }
   ],
   "source": [
    "msg = ['name=egg', 'email=eggmin@eggsample.com', 'password=eggcellent', 'date_of_birth=12/12/1986', '']\n",
    "\n",
    "to_dict(msg)"
   ]
  },
  {
   "cell_type": "code",
   "execution_count": 69,
   "metadata": {},
   "outputs": [],
   "source": [
    "from typing import List\n",
    "import re\n",
    "\n",
    "def filter_datum(fields: List[str], redaction: str,\n",
    "                 message: str, separator: str) -> str:\n",
    "    # split msg into parts\n",
    "    new_message = message.split(separator)\n",
    "    new_message_dict = to_dict(new_message)\n",
    "    # hide specified data\n",
    "    # pattern = \"=([a-z]+|([0-9]+\\/[0-9]+\\/[0-9]+))\"\n",
    "    for field in fields:\n",
    "        pattern = new_message_dict[field]\n",
    "        message = re.sub(pattern, redaction, message)\n",
    "    # print(result)\n",
    "    # concat msg back\n",
    "    # new_messages = \";\".join(new_message)\n",
    "    return message"
   ]
  },
  {
   "cell_type": "code",
   "execution_count": 70,
   "metadata": {},
   "outputs": [
    {
     "name": "stdout",
     "output_type": "stream",
     "text": [
      "name=egg;email=eggmin@eggsample.com;password=xxx;date_of_birth=xxx;\n",
      "name=bob;email=bob@dylan.com;password=xxx;date_of_birth=xxx;\n"
     ]
    }
   ],
   "source": [
    "\n",
    "for message in messages:\n",
    "    print(filter_datum(fields, 'xxx', message, ';'))\n",
    "    # filter_datum(fields, 'xxx', message, ';')"
   ]
  },
  {
   "cell_type": "code",
   "execution_count": 55,
   "metadata": {},
   "outputs": [
    {
     "name": "stdout",
     "output_type": "stream",
     "text": [
      "name=egg;email=eggmin@eggsample.com;xxxeggcellent;xxx12/12/1986;\n",
      "name=bob;email=bob@dylan.com;xxxbobbycool;xxx03/04/1993;\n"
     ]
    }
   ],
   "source": [
    "\n",
    "for message in messages:\n",
    "    print(filter_datum(fields, 'xxx', message, ';'))\n",
    "    # filter_datum(fields, 'xxx', message, ';')"
   ]
  },
  {
   "cell_type": "code",
   "execution_count": 84,
   "metadata": {},
   "outputs": [
    {
     "name": "stdout",
     "output_type": "stream",
     "text": [
      "name=egg;email=eggmin@eggsample.com;password=xxx;date_of_birth=xxx;\n"
     ]
    }
   ],
   "source": [
    "import re\n",
    "\n",
    "msg = 'name=egg;email=eggmin@eggsample.com;password=eggcellent;date_of_birth=12/12/1986;'\n",
    "keys = ['date_of_birth', 'password']\n",
    "# s = 'Make the World a *Better Place*'\n",
    "for key in keys:\n",
    "    pattern = key+r'(.*?);'\n",
    "    repl = \"xxx\"\n",
    "    replacement = f\"{key}={repl};\"\n",
    "    msg = re.sub(pattern, replacement, msg)\n",
    "\n",
    "print(msg)"
   ]
  },
  {
   "attachments": {},
   "cell_type": "markdown",
   "metadata": {},
   "source": [
    "### 1. Log formatter"
   ]
  },
  {
   "cell_type": "code",
   "execution_count": 107,
   "metadata": {},
   "outputs": [],
   "source": [
    "import logging\n",
    "\n",
    "\n",
    "class RedactingFormatter(logging.Formatter):\n",
    "    \"\"\" Redacting Formatter class\n",
    "    \"\"\"\n",
    "    REDACTION = \"***\"\n",
    "    FORMAT = \"[HOLBERTON] %(name)s %(levelname)s %(asctime)-15s: %(message)s\"\n",
    "    SEPARATOR = \";\"\n",
    "\n",
    "    def __init__(self, fields: List[str]):\n",
    "        super(RedactingFormatter, self).__init__(self.FORMAT)\n",
    "        self.fields = fields\n",
    "\n",
    "    def format(self, record: logging.LogRecord) -> str:\n",
    "        \"\"\"filter incoming records using `filter_datum`\"\"\"\n",
    "        # convert record logger obj to string with\n",
    "        # logging.Formatter.format() method\n",
    "        mesg = super(__class__, self).format(record)  # instance of inherited class\n",
    "        \n",
    "        # print(mesg)\n",
    "        return filter_datum(self.fields, self.REDACTION, mesg, self.SEPARATOR)\n"
   ]
  },
  {
   "cell_type": "code",
   "execution_count": 108,
   "metadata": {},
   "outputs": [
    {
     "name": "stdout",
     "output_type": "stream",
     "text": [
      "[HOLBERTON] my_logger INFO 2023-05-25 17:37:58,044: name=Bob;email=***;ssn=***;password=***;\n"
     ]
    }
   ],
   "source": [
    "message = \"name=Bob;email=bob@dylan.com;ssn=000-123-0000;password=bobby2019;\"\n",
    "log_record = logging.LogRecord(\"my_logger\", logging.INFO, None, None, message, None, None)\n",
    "formatter = RedactingFormatter(fields=(\"email\", \"ssn\", \"password\"))\n",
    "print(formatter.format(log_record))\n",
    "# print(log_record.getMessage())\n",
    "# log_record.msg = \"abc\"\n",
    "# print(log_record.msg)\n"
   ]
  },
  {
   "cell_type": "code",
   "execution_count": 104,
   "metadata": {},
   "outputs": [
    {
     "data": {
      "text/plain": [
       "'INFO'"
      ]
     },
     "execution_count": 104,
     "metadata": {},
     "output_type": "execute_result"
    }
   ],
   "source": [
    "log_record.levelname"
   ]
  },
  {
   "cell_type": "code",
   "execution_count": 87,
   "metadata": {},
   "outputs": [],
   "source": [
    "message = \"name=Bob;email=bob@dylan.com;ssn=000-123-0000;password=bobby2019;\"\n"
   ]
  },
  {
   "cell_type": "code",
   "execution_count": 90,
   "metadata": {},
   "outputs": [
    {
     "data": {
      "text/plain": [
       "'name=Bob;email=***;ssn=***;password=***;'"
      ]
     },
     "execution_count": 90,
     "metadata": {},
     "output_type": "execute_result"
    }
   ],
   "source": [
    "fields=(\"email\", \"ssn\", \"password\")\n",
    "filter_datum(fields,\"***\", message, \";\")"
   ]
  },
  {
   "cell_type": "code",
   "execution_count": 6,
   "metadata": {},
   "outputs": [],
   "source": [
    "PII_FIELDS = ('name', 'email', 'phone', 'ssn', 'password')"
   ]
  },
  {
   "cell_type": "markdown",
   "metadata": {},
   "source": [
    "### 2. Create logger"
   ]
  },
  {
   "cell_type": "code",
   "execution_count": 3,
   "metadata": {},
   "outputs": [],
   "source": [
    "def get_logger() -> logging.Logger:\n",
    "    # METHOD-1: using getLogger\n",
    "    logger = logging.getLogger(\"user_data\")\n",
    "    # logger.setLevel(logging.INFO)\n",
    "\n",
    "    # OR using the class itself\n",
    "    logger = logging.Logger(\"user_data\", logging.INFO)\n",
    "    formatter = RedactingFormatter(PII_FIELDS)\n",
    "    handler = logging.StreamHandler()\n",
    "    handler.setFormatter(formatter)\n",
    "    logger.propagate = False  # ancestors shld not get events from dz\n",
    "    logger.addHandler(handler)\n",
    "\n",
    "    return logger"
   ]
  },
  {
   "cell_type": "code",
   "execution_count": 5,
   "metadata": {},
   "outputs": [
    {
     "data": {
      "text/plain": [
       "'user_data'"
      ]
     },
     "execution_count": 5,
     "metadata": {},
     "output_type": "execute_result"
    }
   ],
   "source": [
    "logger = get_logger()\n",
    "\n",
    "logger.name"
   ]
  },
  {
   "cell_type": "code",
   "execution_count": 115,
   "metadata": {},
   "outputs": [
    {
     "name": "stdout",
     "output_type": "stream",
     "text": [
      "<class 'logging.Logger'>\n"
     ]
    }
   ],
   "source": [
    "print(get_logger.__annotations__.get('return'))\n"
   ]
  },
  {
   "cell_type": "code",
   "execution_count": 1,
   "metadata": {},
   "outputs": [],
   "source": [
    "import logging\n",
    "logging.basicConfig(format=\"%(asctime)s: %(message)s :::%(levelname)s\", level=logging.DEBUG, filename=\"mumu.log\", datefmt='%d/%m/%Y %I:%M:%S %p')"
   ]
  },
  {
   "cell_type": "code",
   "execution_count": 2,
   "metadata": {},
   "outputs": [],
   "source": [
    "name = \"West\"\n",
    "logging.debug(f\"Hi {name}, how are u doing\")\n",
    "logging.info(f\"{name} is on the move\")\n",
    "logging.error(f\"Alpha one,{name} is down !!!\")\n",
    "logging.warning(f\"{name} has been compromised. Shoot to kill\")"
   ]
  },
  {
   "cell_type": "code",
   "execution_count": 1,
   "metadata": {},
   "outputs": [],
   "source": [
    "# create a logger that logs each level in a different format\n",
    "import logging\n",
    "import sys\n",
    "\n",
    "logger = logging.Logger('classy_logs', logging.DEBUG)\n",
    "# create a console handler set to ERROR level\n",
    "con_err = logging.StreamHandler(sys.stderr)\n",
    "con_err.setLevel(logging.ERROR)\n",
    "\n",
    "con_err_fmt = logging.Formatter(fmt=\"{levelname}::{message} {asctime}\", style=\"{\", datefmt=\"%d/%m/%Y %H:%M:%S\")\n",
    "\n",
    "con_err.setFormatter(con_err_fmt)\n",
    "\n",
    "logger.addHandler(con_err)\n",
    "# create a console handler set to ERROR level\n",
    "con_deb = logging.StreamHandler(sys.stdout)\n",
    "con_deb.setLevel(logging.DEBUG)\n",
    "\n",
    "con_deb_fmt = logging.Formatter(fmt=\"{asctime} {name} {message} {levelname}\", style=\"{\", datefmt=\"%d/%m/%Y %H:%M:%S\")\n",
    "\n",
    "con_deb.setFormatter(con_deb_fmt)\n",
    "\n",
    "logger.addHandler(con_deb)"
   ]
  },
  {
   "cell_type": "code",
   "execution_count": 2,
   "metadata": {},
   "outputs": [
    {
     "name": "stdout",
     "output_type": "stream",
     "text": [
      "28/05/2023 16:19:05 classy_logs debug message DEBUG\n",
      "28/05/2023 16:19:05 classy_logs info message INFO\n",
      "28/05/2023 16:19:05 classy_logs warn message WARNING\n"
     ]
    },
    {
     "name": "stderr",
     "output_type": "stream",
     "text": [
      "ERROR::error message 28/05/2023 16:19:05\n"
     ]
    },
    {
     "name": "stdout",
     "output_type": "stream",
     "text": [
      "28/05/2023 16:19:05 classy_logs error message ERROR\n"
     ]
    },
    {
     "name": "stderr",
     "output_type": "stream",
     "text": [
      "CRITICAL::critical message 28/05/2023 16:19:05\n"
     ]
    },
    {
     "name": "stdout",
     "output_type": "stream",
     "text": [
      "28/05/2023 16:19:05 classy_logs critical message CRITICAL\n"
     ]
    }
   ],
   "source": [
    "logger.debug('debug message')\n",
    "logger.info('info message')\n",
    "logger.warning('warn message')\n",
    "logger.error('error message')\n",
    "logger.critical('critical message')"
   ]
  },
  {
   "cell_type": "code",
   "execution_count": null,
   "metadata": {},
   "outputs": [],
   "source": []
  }
 ],
 "metadata": {
  "kernelspec": {
   "display_name": "Python 3",
   "language": "python",
   "name": "python3"
  },
  "language_info": {
   "codemirror_mode": {
    "name": "ipython",
    "version": 3
   },
   "file_extension": ".py",
   "mimetype": "text/x-python",
   "name": "python",
   "nbconvert_exporter": "python",
   "pygments_lexer": "ipython3",
   "version": "3.11.3"
  },
  "orig_nbformat": 4
 },
 "nbformat": 4,
 "nbformat_minor": 2
}
