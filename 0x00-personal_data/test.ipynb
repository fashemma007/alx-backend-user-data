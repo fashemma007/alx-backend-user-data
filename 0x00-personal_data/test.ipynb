{
 "cells": [
  {
   "cell_type": "code",
   "execution_count": 3,
   "metadata": {},
   "outputs": [],
   "source": [
    "fields = [\"password\", \"date_of_birth\"]\n",
    "messages = [\"name=egg;email=eggmin@eggsample.com;password=eggcellent;date_of_birth=12/12/1986;\", \"name=bob;email=bob@dylan.com;password=bobbycool;date_of_birth=03/04/1993;\"]"
   ]
  },
  {
   "cell_type": "code",
   "execution_count": null,
   "metadata": {},
   "outputs": [],
   "source": [
    "# split the message using ;\n",
    "# create a dict of k:v\n",
    "# hide the data and convert back"
   ]
  },
  {
   "cell_type": "code",
   "execution_count": 63,
   "metadata": {},
   "outputs": [],
   "source": [
    "def to_dict(msg) -> dict:\n",
    "    return_dict = {}\n",
    "    for item in msg:\n",
    "        try: \n",
    "            # [return_dict.update(item) for item in msg]\n",
    "                item = item.split(\"=\")\n",
    "                return_dict[item[0]] = item[1]\n",
    "        except Exception:\n",
    "            pass\n",
    "    return return_dict"
   ]
  },
  {
   "cell_type": "code",
   "execution_count": 64,
   "metadata": {},
   "outputs": [
    {
     "data": {
      "text/plain": [
       "{'name': 'egg',\n",
       " 'email': 'eggmin@eggsample.com',\n",
       " 'password': 'eggcellent',\n",
       " 'date_of_birth': '12/12/1986'}"
      ]
     },
     "execution_count": 64,
     "metadata": {},
     "output_type": "execute_result"
    }
   ],
   "source": [
    "msg = ['name=egg', 'email=eggmin@eggsample.com', 'password=eggcellent', 'date_of_birth=12/12/1986', '']\n",
    "\n",
    "to_dict(msg)"
   ]
  },
  {
   "cell_type": "code",
   "execution_count": 69,
   "metadata": {},
   "outputs": [],
   "source": [
    "from typing import List\n",
    "import re\n",
    "\n",
    "def filter_datum(fields: List[str], redaction: str,\n",
    "                 message: str, separator: str) -> str:\n",
    "    # split msg into parts\n",
    "    new_message = message.split(separator)\n",
    "    new_message_dict = to_dict(new_message)\n",
    "    # hide specified data\n",
    "    # pattern = \"=([a-z]+|([0-9]+\\/[0-9]+\\/[0-9]+))\"\n",
    "    for field in fields:\n",
    "        pattern = new_message_dict[field]\n",
    "        message = re.sub(pattern, redaction, message)\n",
    "    # print(result)\n",
    "    # concat msg back\n",
    "    # new_messages = \";\".join(new_message)\n",
    "    return message"
   ]
  },
  {
   "cell_type": "code",
   "execution_count": 70,
   "metadata": {},
   "outputs": [
    {
     "name": "stdout",
     "output_type": "stream",
     "text": [
      "name=egg;email=eggmin@eggsample.com;password=xxx;date_of_birth=xxx;\n",
      "name=bob;email=bob@dylan.com;password=xxx;date_of_birth=xxx;\n"
     ]
    }
   ],
   "source": [
    "\n",
    "for message in messages:\n",
    "    print(filter_datum(fields, 'xxx', message, ';'))\n",
    "    # filter_datum(fields, 'xxx', message, ';')"
   ]
  },
  {
   "cell_type": "code",
   "execution_count": 55,
   "metadata": {},
   "outputs": [
    {
     "name": "stdout",
     "output_type": "stream",
     "text": [
      "name=egg;email=eggmin@eggsample.com;xxxeggcellent;xxx12/12/1986;\n",
      "name=bob;email=bob@dylan.com;xxxbobbycool;xxx03/04/1993;\n"
     ]
    }
   ],
   "source": [
    "\n",
    "for message in messages:\n",
    "    print(filter_datum(fields, 'xxx', message, ';'))\n",
    "    # filter_datum(fields, 'xxx', message, ';')"
   ]
  },
  {
   "attachments": {},
   "cell_type": "markdown",
   "metadata": {},
   "source": [
    "name=egg;email=eggmin@eggsample.com;password=xxx;date_of_birth=xxx;\n",
    "name=bob;email=bob@dylan.com;password=xxx;date_of_birth=xxx;\n"
   ]
  }
 ],
 "metadata": {
  "kernelspec": {
   "display_name": "Python 3",
   "language": "python",
   "name": "python3"
  },
  "language_info": {
   "codemirror_mode": {
    "name": "ipython",
    "version": 3
   },
   "file_extension": ".py",
   "mimetype": "text/x-python",
   "name": "python",
   "nbconvert_exporter": "python",
   "pygments_lexer": "ipython3",
   "version": "3.11.3"
  },
  "orig_nbformat": 4
 },
 "nbformat": 4,
 "nbformat_minor": 2
}
