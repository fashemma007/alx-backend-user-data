{
 "cells": [
  {
   "cell_type": "code",
   "execution_count": 8,
   "metadata": {},
   "outputs": [],
   "source": [
    "def hello(**kwargs):\n",
    "    lixt = ['name', 'email', 'age']\n",
    "    for key in kwargs:\n",
    "        if key not in lixt:\n",
    "            raise KeyError(f\"{key} not found\")\n",
    "        value = kwargs[key]\n",
    "    return key, value"
   ]
  },
  {
   "cell_type": "code",
   "execution_count": 20,
   "metadata": {},
   "outputs": [
    {
     "name": "stdout",
     "output_type": "stream",
     "text": [
      "b'password123'\n",
      "b'$2b$12$3LKwxnfxrVhIh5qx6UHxEO'\n",
      "b'$2b$12$3LKwxnfxrVhIh5qx6UHxEO0oxrYA2aabJmHHtFMJohq4jsmAQyNvy'\n",
      "False\n"
     ]
    }
   ],
   "source": [
    "import bcrypt\n",
    "\n",
    "# example password\n",
    "password = 'password123'\n",
    "password2 = 'password1234'\n",
    "\n",
    "# converting password to array of bytes\n",
    "bytes = password.encode('utf-8')\n",
    "newbytes = password2.encode('utf-8')\n",
    "\n",
    "# generating the salt\n",
    "salt = bcrypt.gensalt()\n",
    "\n",
    "# Hashing the password\n",
    "hash = bcrypt.hashpw(bytes, salt)\n",
    "\n",
    "print(bytes)\n",
    "print(salt)\n",
    "print(hash)\n",
    "result = bcrypt.checkpw(newbytes, hash)\n",
    "  \n",
    "print(result)\n"
   ]
  },
  {
   "cell_type": "code",
   "execution_count": 15,
   "metadata": {},
   "outputs": [
    {
     "name": "stdout",
     "output_type": "stream",
     "text": [
      "True\n"
     ]
    }
   ],
   "source": [
    "password = 'password123'\n",
    "\n",
    "# converting password to array of bytes\n",
    "bytes = password.encode('utf-8')\n",
    "result = bcrypt.checkpw(bytes, hash)\n",
    "  \n",
    "print(result)"
   ]
  },
  {
   "cell_type": "code",
   "execution_count": null,
   "metadata": {},
   "outputs": [],
   "source": []
  }
 ],
 "metadata": {
  "kernelspec": {
   "display_name": "Python 3",
   "language": "python",
   "name": "python3"
  },
  "language_info": {
   "codemirror_mode": {
    "name": "ipython",
    "version": 3
   },
   "file_extension": ".py",
   "mimetype": "text/x-python",
   "name": "python",
   "nbconvert_exporter": "python",
   "pygments_lexer": "ipython3",
   "version": "3.11.3"
  },
  "orig_nbformat": 4
 },
 "nbformat": 4,
 "nbformat_minor": 2
}
